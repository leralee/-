{
 "cells": [
  {
   "cell_type": "code",
   "execution_count": 23,
   "id": "d597457b",
   "metadata": {},
   "outputs": [],
   "source": [
    "list_numbers = [10,20,2]\n",
    "list_numbers = map(lambda x: x==2, list_numbers)"
   ]
  },
  {
   "cell_type": "code",
   "execution_count": 24,
   "id": "a5dc7235",
   "metadata": {
    "scrolled": true
   },
   "outputs": [
    {
     "name": "stdout",
     "output_type": "stream",
     "text": [
      "False\n",
      "False\n",
      "True\n"
     ]
    }
   ],
   "source": [
    "for i in list_numbers:\n",
    "    print(i)"
   ]
  },
  {
   "cell_type": "code",
   "execution_count": 26,
   "id": "f1042ec8",
   "metadata": {},
   "outputs": [],
   "source": [
    "import random"
   ]
  },
  {
   "cell_type": "code",
   "execution_count": 27,
   "id": "3d73fa1c",
   "metadata": {},
   "outputs": [
    {
     "ename": "TypeError",
     "evalue": "Random.random() takes no arguments (1 given)",
     "output_type": "error",
     "traceback": [
      "\u001b[0;31m---------------------------------------------------------------------------\u001b[0m",
      "\u001b[0;31mTypeError\u001b[0m                                 Traceback (most recent call last)",
      "Input \u001b[0;32mIn [27]\u001b[0m, in \u001b[0;36m<cell line: 1>\u001b[0;34m()\u001b[0m\n\u001b[0;32m----> 1\u001b[0m \u001b[43mrandom\u001b[49m\u001b[38;5;241;43m.\u001b[39;49m\u001b[43mrandom\u001b[49m\u001b[43m(\u001b[49m\u001b[43mlist_numbers\u001b[49m\u001b[43m)\u001b[49m\n",
      "\u001b[0;31mTypeError\u001b[0m: Random.random() takes no arguments (1 given)"
     ]
    }
   ],
   "source": [
    "random.random(list_numbers)"
   ]
  },
  {
   "cell_type": "code",
   "execution_count": 28,
   "id": "985d2233",
   "metadata": {},
   "outputs": [],
   "source": [
    "a = (1,2,3)\n",
    "b = [4,5,6]\n",
    "c = 2\n",
    "d = (a+(tuple(b)))*c"
   ]
  },
  {
   "cell_type": "code",
   "execution_count": 29,
   "id": "2690071b",
   "metadata": {},
   "outputs": [
    {
     "data": {
      "text/plain": [
       "(1, 2, 3, 4, 5, 6, 1, 2, 3, 4, 5, 6)"
      ]
     },
     "execution_count": 29,
     "metadata": {},
     "output_type": "execute_result"
    }
   ],
   "source": [
    "d"
   ]
  },
  {
   "cell_type": "code",
   "execution_count": 30,
   "id": "bccb0b6a",
   "metadata": {},
   "outputs": [
    {
     "name": "stdout",
     "output_type": "stream",
     "text": [
      "9\n"
     ]
    }
   ],
   "source": [
    "def act1(n):\n",
    "    def act2(x):\n",
    "        return x**n\n",
    "    return act2\n",
    "f = act1(2)\n",
    "print(f(3))"
   ]
  },
  {
   "cell_type": "code",
   "execution_count": 31,
   "id": "90e24190",
   "metadata": {},
   "outputs": [
    {
     "name": "stdout",
     "output_type": "stream",
     "text": [
      "{'!', 'l', 'o', 'h', 'e'} 5\n"
     ]
    }
   ],
   "source": [
    "st_1  = 'helloo!helloo!'\n",
    "st = set(st_1)\n",
    "print(st, len(st))"
   ]
  },
  {
   "cell_type": "code",
   "execution_count": 32,
   "id": "b130ab07",
   "metadata": {},
   "outputs": [
    {
     "data": {
      "text/plain": [
       "[-8, 1, 2, 3, 4, 5]"
      ]
     },
     "execution_count": 32,
     "metadata": {},
     "output_type": "execute_result"
    }
   ],
   "source": [
    "l = [1,2,5,-8,4,3]\n",
    "l.sort(key=lambda x:-x,reverse=True)\n",
    "l"
   ]
  },
  {
   "cell_type": "code",
   "execution_count": 33,
   "id": "ff151c41",
   "metadata": {},
   "outputs": [],
   "source": [
    "D = {}\n",
    "D[1],D[2],D[3] = \"ABB\"\n",
    "D[0], D[1] = \"AB\""
   ]
  },
  {
   "cell_type": "code",
   "execution_count": 35,
   "id": "b1b3b20f",
   "metadata": {},
   "outputs": [
    {
     "data": {
      "text/plain": [
       "4"
      ]
     },
     "execution_count": 35,
     "metadata": {},
     "output_type": "execute_result"
    }
   ],
   "source": [
    "len(D)"
   ]
  },
  {
   "cell_type": "code",
   "execution_count": 36,
   "id": "99f9ae23",
   "metadata": {},
   "outputs": [
    {
     "name": "stdout",
     "output_type": "stream",
     "text": [
      "6\n"
     ]
    }
   ],
   "source": [
    "S = 0\n",
    "for i in range(1,20):\n",
    "    for j in range(1,3):\n",
    "        if i==j:\n",
    "            S = S + i + j\n",
    "            break\n",
    "print(S)"
   ]
  },
  {
   "cell_type": "code",
   "execution_count": 37,
   "id": "1c48f516",
   "metadata": {},
   "outputs": [
    {
     "name": "stdout",
     "output_type": "stream",
     "text": [
      "4 7 4\n"
     ]
    }
   ],
   "source": [
    "a = 7 \n",
    "b= 4\n",
    "a,b = b,a\n",
    "print(a,b,a)"
   ]
  },
  {
   "cell_type": "code",
   "execution_count": 58,
   "id": "66e82f93",
   "metadata": {},
   "outputs": [
    {
     "name": "stdout",
     "output_type": "stream",
     "text": [
      "{'c': 20, 'e': 3}\n"
     ]
    }
   ],
   "source": [
    "a = {'a':15, 'c':25}\n",
    "b = {'c':20, 'e':3}\n",
    "for i in b.keys():\n",
    "    if i not in b:\n",
    "        b[i]=a[i]\n",
    "print(b)"
   ]
  },
  {
   "cell_type": "code",
   "execution_count": 42,
   "id": "805ba648",
   "metadata": {},
   "outputs": [
    {
     "data": {
      "text/plain": [
       "28"
      ]
     },
     "execution_count": 42,
     "metadata": {},
     "output_type": "execute_result"
    }
   ],
   "source": [
    "S = 0 \n",
    "for i in range(10,2,-1):\n",
    "    if i%2==0:\n",
    "        S=S+i\n",
    "S"
   ]
  },
  {
   "cell_type": "code",
   "execution_count": 43,
   "id": "bc378f58",
   "metadata": {},
   "outputs": [
    {
     "data": {
      "text/plain": [
       "26"
      ]
     },
     "execution_count": 43,
     "metadata": {},
     "output_type": "execute_result"
    }
   ],
   "source": [
    "n=0\n",
    "s=512\n",
    "while s>=0:\n",
    "    s=s-20\n",
    "    n=n+1\n",
    "n"
   ]
  },
  {
   "cell_type": "code",
   "execution_count": 44,
   "id": "393b70ae",
   "metadata": {},
   "outputs": [
    {
     "data": {
      "text/plain": [
       "'=a  14  .='"
      ]
     },
     "execution_count": 44,
     "metadata": {},
     "output_type": "execute_result"
    }
   ],
   "source": [
    "\"=%-3s%1.0f%-3i.=\" %(\"a\",1.234,4)"
   ]
  },
  {
   "cell_type": "code",
   "execution_count": 45,
   "id": "51010040",
   "metadata": {},
   "outputs": [
    {
     "data": {
      "text/plain": [
       "'rayLigh'"
      ]
     },
     "execution_count": 45,
     "metadata": {},
     "output_type": "execute_result"
    }
   ],
   "source": [
    "s = \"Light ray\"\n",
    "s[-3:]+s[0:4]"
   ]
  },
  {
   "cell_type": "code",
   "execution_count": 46,
   "id": "3943414f",
   "metadata": {},
   "outputs": [
    {
     "data": {
      "text/plain": [
       "'=abc 1.24='"
      ]
     },
     "execution_count": 46,
     "metadata": {},
     "output_type": "execute_result"
    }
   ],
   "source": [
    "\"=%s %3.1f%-1i=\" %(\"abc\",1.234,4)"
   ]
  },
  {
   "cell_type": "code",
   "execution_count": 47,
   "id": "4dd9cd43",
   "metadata": {},
   "outputs": [
    {
     "data": {
      "text/plain": [
       "[[2, 3], 'abc']"
      ]
     },
     "execution_count": 47,
     "metadata": {},
     "output_type": "execute_result"
    }
   ],
   "source": [
    "l = []\n",
    "l.append([1,2,3])\n",
    "l.insert(1,\"abc\")\n",
    "del l[0][0]\n",
    "l"
   ]
  },
  {
   "cell_type": "code",
   "execution_count": 48,
   "id": "92ed1218",
   "metadata": {},
   "outputs": [
    {
     "ename": "SyntaxError",
     "evalue": "invalid syntax (2246092100.py, line 4)",
     "output_type": "error",
     "traceback": [
      "\u001b[0;36m  Input \u001b[0;32mIn [48]\u001b[0;36m\u001b[0m\n\u001b[0;31m    retrun input1()\u001b[0m\n\u001b[0m           ^\u001b[0m\n\u001b[0;31mSyntaxError\u001b[0m\u001b[0;31m:\u001b[0m invalid syntax\n"
     ]
    }
   ],
   "source": [
    "def output1(msg):\n",
    "    def input1():\n",
    "        print(msg)\n",
    "    retrun input1()\n",
    "act = output1('Hello, world!')('My name is Vasya')"
   ]
  },
  {
   "cell_type": "code",
   "execution_count": 54,
   "id": "7a451af8",
   "metadata": {},
   "outputs": [
    {
     "ename": "TypeError",
     "evalue": "'tuple' object is not callable",
     "output_type": "error",
     "traceback": [
      "\u001b[0;31m---------------------------------------------------------------------------\u001b[0m",
      "\u001b[0;31mTypeError\u001b[0m                                 Traceback (most recent call last)",
      "Input \u001b[0;32mIn [54]\u001b[0m, in \u001b[0;36m<cell line: 1>\u001b[0;34m()\u001b[0m\n\u001b[0;32m----> 1\u001b[0m set1 \u001b[38;5;241m=\u001b[39m \u001b[38;5;28;43mset\u001b[39;49m\u001b[43m(\u001b[49m\u001b[38;5;241;43m1\u001b[39;49m\u001b[43m,\u001b[49m\u001b[38;5;241;43m2\u001b[39;49m\u001b[43m,\u001b[49m\u001b[38;5;241;43m3\u001b[39;49m\u001b[43m)\u001b[49m\n",
      "\u001b[0;31mTypeError\u001b[0m: 'tuple' object is not callable"
     ]
    }
   ],
   "source": [
    "set1 = set(1,2,3)"
   ]
  },
  {
   "cell_type": "code",
   "execution_count": 53,
   "id": "2004fb57",
   "metadata": {},
   "outputs": [
    {
     "ename": "NameError",
     "evalue": "name 'delete' is not defined",
     "output_type": "error",
     "traceback": [
      "\u001b[0;31m---------------------------------------------------------------------------\u001b[0m",
      "\u001b[0;31mNameError\u001b[0m                                 Traceback (most recent call last)",
      "Input \u001b[0;32mIn [53]\u001b[0m, in \u001b[0;36m<cell line: 1>\u001b[0;34m()\u001b[0m\n\u001b[0;32m----> 1\u001b[0m \u001b[43mdelete\u001b[49m(set1)\n",
      "\u001b[0;31mNameError\u001b[0m: name 'delete' is not defined"
     ]
    }
   ],
   "source": [
    "delete(set1)"
   ]
  },
  {
   "cell_type": "code",
   "execution_count": 55,
   "id": "802c2946",
   "metadata": {},
   "outputs": [
    {
     "ename": "SyntaxError",
     "evalue": "non-default argument follows default argument (90505038.py, line 1)",
     "output_type": "error",
     "traceback": [
      "\u001b[0;36m  Input \u001b[0;32mIn [55]\u001b[0;36m\u001b[0m\n\u001b[0;31m    fun = lambda x=1,y=1,z:x**2+y+z**0.5\u001b[0m\n\u001b[0m                          ^\u001b[0m\n\u001b[0;31mSyntaxError\u001b[0m\u001b[0;31m:\u001b[0m non-default argument follows default argument\n"
     ]
    }
   ],
   "source": [
    "fun = lambda x=1,y=1,z:x**2+y+z**0.5"
   ]
  },
  {
   "cell_type": "code",
   "execution_count": 56,
   "id": "124aa2c6",
   "metadata": {},
   "outputs": [],
   "source": [
    "def fun(*x,**y):\n",
    "    print(x,y)"
   ]
  },
  {
   "cell_type": "code",
   "execution_count": 57,
   "id": "53bc0374",
   "metadata": {},
   "outputs": [
    {
     "name": "stdout",
     "output_type": "stream",
     "text": [
      "(2, 4) {}\n"
     ]
    }
   ],
   "source": [
    "fun(2,4)"
   ]
  },
  {
   "cell_type": "code",
   "execution_count": 81,
   "id": "237f15f9",
   "metadata": {},
   "outputs": [
    {
     "data": {
      "text/plain": [
       "{2, 3}"
      ]
     },
     "execution_count": 81,
     "metadata": {},
     "output_type": "execute_result"
    }
   ],
   "source": [
    "{1,2,3} & {2,3,7}\n"
   ]
  },
  {
   "cell_type": "code",
   "execution_count": 82,
   "id": "016736d3",
   "metadata": {},
   "outputs": [],
   "source": [
    "{1,2,3}.clear()"
   ]
  },
  {
   "cell_type": "code",
   "execution_count": 85,
   "id": "d2a26388",
   "metadata": {},
   "outputs": [
    {
     "ename": "TypeError",
     "evalue": "'tuple' object is not callable",
     "output_type": "error",
     "traceback": [
      "\u001b[0;31m---------------------------------------------------------------------------\u001b[0m",
      "\u001b[0;31mTypeError\u001b[0m                                 Traceback (most recent call last)",
      "Input \u001b[0;32mIn [85]\u001b[0m, in \u001b[0;36m<cell line: 1>\u001b[0;34m()\u001b[0m\n\u001b[0;32m----> 1\u001b[0m \u001b[38;5;28;43mset\u001b[39;49m\u001b[43m(\u001b[49m\u001b[38;5;124;43m'\u001b[39;49m\u001b[38;5;124;43mhello\u001b[39;49m\u001b[38;5;124;43m'\u001b[39;49m\u001b[43m)\u001b[49m\n",
      "\u001b[0;31mTypeError\u001b[0m: 'tuple' object is not callable"
     ]
    }
   ],
   "source": [
    "set('hello')"
   ]
  },
  {
   "cell_type": "code",
   "execution_count": null,
   "id": "ef7f71f6",
   "metadata": {},
   "outputs": [],
   "source": []
  }
 ],
 "metadata": {
  "kernelspec": {
   "display_name": "Python 3 (ipykernel)",
   "language": "python",
   "name": "python3"
  },
  "language_info": {
   "codemirror_mode": {
    "name": "ipython",
    "version": 3
   },
   "file_extension": ".py",
   "mimetype": "text/x-python",
   "name": "python",
   "nbconvert_exporter": "python",
   "pygments_lexer": "ipython3",
   "version": "3.9.12"
  }
 },
 "nbformat": 4,
 "nbformat_minor": 5
}
